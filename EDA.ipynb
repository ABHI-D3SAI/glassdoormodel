{
 "cells": [
  {
   "cell_type": "code",
   "execution_count": 1,
   "id": "ee9f5f66",
   "metadata": {},
   "outputs": [],
   "source": [
    "import pandas as pd\n",
    "import matplotlib.pyplot as plt\n",
    "import seaborn as sns"
   ]
  },
  {
   "cell_type": "code",
   "execution_count": 2,
   "id": "5e6aea4e",
   "metadata": {},
   "outputs": [],
   "source": [
    "df = pd.read_csv('data_clean.csv')"
   ]
  },
  {
   "cell_type": "code",
   "execution_count": 3,
   "id": "c6f739b8",
   "metadata": {
    "scrolled": true
   },
   "outputs": [
    {
     "data": {
      "text/html": [
       "<div>\n",
       "<style scoped>\n",
       "    .dataframe tbody tr th:only-of-type {\n",
       "        vertical-align: middle;\n",
       "    }\n",
       "\n",
       "    .dataframe tbody tr th {\n",
       "        vertical-align: top;\n",
       "    }\n",
       "\n",
       "    .dataframe thead th {\n",
       "        text-align: right;\n",
       "    }\n",
       "</style>\n",
       "<table border=\"1\" class=\"dataframe\">\n",
       "  <thead>\n",
       "    <tr style=\"text-align: right;\">\n",
       "      <th></th>\n",
       "      <th>Unnamed: 0</th>\n",
       "      <th>Company Name</th>\n",
       "      <th>Job Title</th>\n",
       "      <th>Job Description</th>\n",
       "      <th>Salary Estimate</th>\n",
       "      <th>Location</th>\n",
       "      <th>Revenue</th>\n",
       "      <th>min_salary</th>\n",
       "      <th>max_salary</th>\n",
       "      <th>python</th>\n",
       "      <th>sql</th>\n",
       "      <th>Machine Learning</th>\n",
       "      <th>TensorFlow</th>\n",
       "    </tr>\n",
       "  </thead>\n",
       "  <tbody>\n",
       "    <tr>\n",
       "      <th>0</th>\n",
       "      <td>0</td>\n",
       "      <td>UTURNGROUP</td>\n",
       "      <td>Data Scientist</td>\n",
       "      <td>Responsibilities for Data Scientist/ NLP Engin...</td>\n",
       "      <td>₹223K (Employer est.)</td>\n",
       "      <td>Pune</td>\n",
       "      <td>NaN</td>\n",
       "      <td>223</td>\n",
       "      <td>223</td>\n",
       "      <td>1</td>\n",
       "      <td>1</td>\n",
       "      <td>1</td>\n",
       "      <td>0</td>\n",
       "    </tr>\n",
       "    <tr>\n",
       "      <th>1</th>\n",
       "      <td>1</td>\n",
       "      <td>Yash Technologies</td>\n",
       "      <td>Associate Data Scientist</td>\n",
       "      <td>Responsibilities for Data Scientist/ NLP Engin...</td>\n",
       "      <td>₹223K (Employer est.)</td>\n",
       "      <td>Pune</td>\n",
       "      <td>NaN</td>\n",
       "      <td>223</td>\n",
       "      <td>223</td>\n",
       "      <td>1</td>\n",
       "      <td>1</td>\n",
       "      <td>1</td>\n",
       "      <td>0</td>\n",
       "    </tr>\n",
       "    <tr>\n",
       "      <th>2</th>\n",
       "      <td>2</td>\n",
       "      <td>JPMorgan Chase Bank, N.A.</td>\n",
       "      <td>Data Scientist Associate - Wholesale Payments</td>\n",
       "      <td>Responsibilities for Data Scientist/ NLP Engin...</td>\n",
       "      <td>₹223K (Employer est.)</td>\n",
       "      <td>Mumbai</td>\n",
       "      <td>NaN</td>\n",
       "      <td>223</td>\n",
       "      <td>223</td>\n",
       "      <td>1</td>\n",
       "      <td>1</td>\n",
       "      <td>1</td>\n",
       "      <td>0</td>\n",
       "    </tr>\n",
       "    <tr>\n",
       "      <th>3</th>\n",
       "      <td>3</td>\n",
       "      <td>KPIT Technologies GmbH</td>\n",
       "      <td>Data Scientist</td>\n",
       "      <td>Responsibilities for Data Scientist/ NLP Engin...</td>\n",
       "      <td>₹223K (Employer est.)</td>\n",
       "      <td>Pune</td>\n",
       "      <td>NaN</td>\n",
       "      <td>223</td>\n",
       "      <td>223</td>\n",
       "      <td>1</td>\n",
       "      <td>1</td>\n",
       "      <td>1</td>\n",
       "      <td>0</td>\n",
       "    </tr>\n",
       "    <tr>\n",
       "      <th>4</th>\n",
       "      <td>4</td>\n",
       "      <td>NICE</td>\n",
       "      <td>Specialist Data Scientist</td>\n",
       "      <td>Responsibilities for Data Scientist/ NLP Engin...</td>\n",
       "      <td>₹223K (Employer est.)</td>\n",
       "      <td>Pune</td>\n",
       "      <td>NaN</td>\n",
       "      <td>223</td>\n",
       "      <td>223</td>\n",
       "      <td>1</td>\n",
       "      <td>1</td>\n",
       "      <td>1</td>\n",
       "      <td>0</td>\n",
       "    </tr>\n",
       "  </tbody>\n",
       "</table>\n",
       "</div>"
      ],
      "text/plain": [
       "   Unnamed: 0               Company Name  \\\n",
       "0           0                 UTURNGROUP   \n",
       "1           1          Yash Technologies   \n",
       "2           2  JPMorgan Chase Bank, N.A.   \n",
       "3           3     KPIT Technologies GmbH   \n",
       "4           4                       NICE   \n",
       "\n",
       "                                       Job Title  \\\n",
       "0                                 Data Scientist   \n",
       "1                       Associate Data Scientist   \n",
       "2  Data Scientist Associate - Wholesale Payments   \n",
       "3                                 Data Scientist   \n",
       "4                      Specialist Data Scientist   \n",
       "\n",
       "                                     Job Description        Salary Estimate  \\\n",
       "0  Responsibilities for Data Scientist/ NLP Engin...  ₹223K (Employer est.)   \n",
       "1  Responsibilities for Data Scientist/ NLP Engin...  ₹223K (Employer est.)   \n",
       "2  Responsibilities for Data Scientist/ NLP Engin...  ₹223K (Employer est.)   \n",
       "3  Responsibilities for Data Scientist/ NLP Engin...  ₹223K (Employer est.)   \n",
       "4  Responsibilities for Data Scientist/ NLP Engin...  ₹223K (Employer est.)   \n",
       "\n",
       "  Location Revenue  min_salary  max_salary  python  sql  Machine Learning  \\\n",
       "0     Pune     NaN         223         223       1    1                 1   \n",
       "1     Pune     NaN         223         223       1    1                 1   \n",
       "2   Mumbai     NaN         223         223       1    1                 1   \n",
       "3     Pune     NaN         223         223       1    1                 1   \n",
       "4     Pune     NaN         223         223       1    1                 1   \n",
       "\n",
       "   TensorFlow  \n",
       "0           0  \n",
       "1           0  \n",
       "2           0  \n",
       "3           0  \n",
       "4           0  "
      ]
     },
     "execution_count": 3,
     "metadata": {},
     "output_type": "execute_result"
    }
   ],
   "source": [
    "df.head()"
   ]
  },
  {
   "cell_type": "code",
   "execution_count": 4,
   "id": "d7588cbd",
   "metadata": {},
   "outputs": [],
   "source": [
    "df.drop(['Unnamed: 0'],axis=1,inplace=True)"
   ]
  },
  {
   "cell_type": "code",
   "execution_count": 5,
   "id": "3bb703ad",
   "metadata": {},
   "outputs": [
    {
     "data": {
      "text/plain": [
       "0                                         Data Scientist\n",
       "1                               Associate Data Scientist\n",
       "2          Data Scientist Associate - Wholesale Payments\n",
       "3                                         Data Scientist\n",
       "4                              Specialist Data Scientist\n",
       "                             ...                        \n",
       "145                       ENGINEER - AI/MACHINE-LEARNING\n",
       "146                       Data Scientist II - APAC-based\n",
       "147                                       Data Scientist\n",
       "148                                       Data Scientist\n",
       "149    Artificial Intelligence & Machine Learning Exp...\n",
       "Name: Job Title, Length: 150, dtype: object"
      ]
     },
     "execution_count": 5,
     "metadata": {},
     "output_type": "execute_result"
    }
   ],
   "source": [
    "df['Job Title']"
   ]
  },
  {
   "cell_type": "code",
   "execution_count": 6,
   "id": "6d3eb0fb",
   "metadata": {},
   "outputs": [],
   "source": [
    "df['Job Title'] = df['Job Title'].astype(str)"
   ]
  },
  {
   "cell_type": "code",
   "execution_count": 7,
   "id": "0959d0ac",
   "metadata": {},
   "outputs": [],
   "source": [
    "def title_filter(title):\n",
    "    if 'data scientist' in title.lower():\n",
    "        return 'data scientist'\n",
    "    elif 'natural language' in title.lower():\n",
    "        return 'nle'\n",
    "    elif 'analyst' in title.lower() or 'analysis' in title.lower():\n",
    "        return 'analyst'\n",
    "    elif 'machine learning' in title.lower():\n",
    "        return 'mle'\n",
    "    elif 'manager' in title.lower():\n",
    "        return 'manager'\n",
    "    else:\n",
    "        return 'NaN'\n",
    "    \n",
    "def seniority(title):\n",
    "    if 'sr' in title.lower() or 'senior'in title.lower():\n",
    "        return 'senior'\n",
    "    elif 'jr' in title.lower() or 'junior' in title.lower():\n",
    "        return 'junior'\n",
    "    elif 'associate' in title.lower():\n",
    "        return 'associative'\n",
    "    else:\n",
    "        return 'NaN'"
   ]
  },
  {
   "cell_type": "code",
   "execution_count": 8,
   "id": "6dcfdc2f",
   "metadata": {},
   "outputs": [],
   "source": [
    "df['job_simpl'] = df['Job Title'].apply(title_filter)"
   ]
  },
  {
   "cell_type": "code",
   "execution_count": 9,
   "id": "42bc1b3d",
   "metadata": {},
   "outputs": [
    {
     "data": {
      "text/plain": [
       "data scientist    94\n",
       "NaN               32\n",
       "mle               20\n",
       "analyst            3\n",
       "nle                1\n",
       "Name: job_simpl, dtype: int64"
      ]
     },
     "execution_count": 9,
     "metadata": {},
     "output_type": "execute_result"
    }
   ],
   "source": [
    "df.job_simpl.value_counts()"
   ]
  },
  {
   "cell_type": "code",
   "execution_count": 10,
   "id": "4ffc05cd",
   "metadata": {},
   "outputs": [
    {
     "data": {
      "text/plain": [
       "NaN            127\n",
       "senior          12\n",
       "junior           7\n",
       "associative      4\n",
       "Name: seniority, dtype: int64"
      ]
     },
     "execution_count": 10,
     "metadata": {},
     "output_type": "execute_result"
    }
   ],
   "source": [
    "df['seniority'] = df['Job Title'].apply(seniority)\n",
    "df.seniority.value_counts()"
   ]
  },
  {
   "cell_type": "code",
   "execution_count": 11,
   "id": "ac3092b1",
   "metadata": {},
   "outputs": [],
   "source": [
    "df['desc_len'] = df['Job Description'].apply(lambda x: len(x))"
   ]
  },
  {
   "cell_type": "code",
   "execution_count": 12,
   "id": "d410b561",
   "metadata": {},
   "outputs": [],
   "source": [
    "df['avg_salary'] = df['min_salary']+df['max_salary']/2"
   ]
  },
  {
   "cell_type": "code",
   "execution_count": 13,
   "id": "39849617",
   "metadata": {
    "scrolled": true
   },
   "outputs": [
    {
     "data": {
      "text/html": [
       "<div>\n",
       "<style scoped>\n",
       "    .dataframe tbody tr th:only-of-type {\n",
       "        vertical-align: middle;\n",
       "    }\n",
       "\n",
       "    .dataframe tbody tr th {\n",
       "        vertical-align: top;\n",
       "    }\n",
       "\n",
       "    .dataframe thead th {\n",
       "        text-align: right;\n",
       "    }\n",
       "</style>\n",
       "<table border=\"1\" class=\"dataframe\">\n",
       "  <thead>\n",
       "    <tr style=\"text-align: right;\">\n",
       "      <th></th>\n",
       "      <th>min_salary</th>\n",
       "      <th>max_salary</th>\n",
       "      <th>python</th>\n",
       "      <th>sql</th>\n",
       "      <th>Machine Learning</th>\n",
       "      <th>TensorFlow</th>\n",
       "      <th>desc_len</th>\n",
       "      <th>avg_salary</th>\n",
       "    </tr>\n",
       "  </thead>\n",
       "  <tbody>\n",
       "    <tr>\n",
       "      <th>count</th>\n",
       "      <td>150.000000</td>\n",
       "      <td>150.000000</td>\n",
       "      <td>150.000000</td>\n",
       "      <td>150.000000</td>\n",
       "      <td>150.000000</td>\n",
       "      <td>150.000000</td>\n",
       "      <td>150.000000</td>\n",
       "      <td>150.000000</td>\n",
       "    </tr>\n",
       "    <tr>\n",
       "      <th>mean</th>\n",
       "      <td>380.600000</td>\n",
       "      <td>716.600000</td>\n",
       "      <td>0.846667</td>\n",
       "      <td>0.246667</td>\n",
       "      <td>0.846667</td>\n",
       "      <td>0.600000</td>\n",
       "      <td>653.386667</td>\n",
       "      <td>738.900000</td>\n",
       "    </tr>\n",
       "    <tr>\n",
       "      <th>std</th>\n",
       "      <td>147.357393</td>\n",
       "      <td>350.957807</td>\n",
       "      <td>0.361516</td>\n",
       "      <td>0.432515</td>\n",
       "      <td>0.361516</td>\n",
       "      <td>0.491539</td>\n",
       "      <td>309.159019</td>\n",
       "      <td>320.954177</td>\n",
       "    </tr>\n",
       "    <tr>\n",
       "      <th>min</th>\n",
       "      <td>180.000000</td>\n",
       "      <td>223.000000</td>\n",
       "      <td>0.000000</td>\n",
       "      <td>0.000000</td>\n",
       "      <td>0.000000</td>\n",
       "      <td>0.000000</td>\n",
       "      <td>432.000000</td>\n",
       "      <td>334.500000</td>\n",
       "    </tr>\n",
       "    <tr>\n",
       "      <th>25%</th>\n",
       "      <td>223.000000</td>\n",
       "      <td>360.000000</td>\n",
       "      <td>1.000000</td>\n",
       "      <td>0.000000</td>\n",
       "      <td>1.000000</td>\n",
       "      <td>0.000000</td>\n",
       "      <td>432.000000</td>\n",
       "      <td>360.000000</td>\n",
       "    </tr>\n",
       "    <tr>\n",
       "      <th>50%</th>\n",
       "      <td>500.000000</td>\n",
       "      <td>1000.000000</td>\n",
       "      <td>1.000000</td>\n",
       "      <td>0.000000</td>\n",
       "      <td>1.000000</td>\n",
       "      <td>1.000000</td>\n",
       "      <td>432.000000</td>\n",
       "      <td>1000.000000</td>\n",
       "    </tr>\n",
       "    <tr>\n",
       "      <th>75%</th>\n",
       "      <td>500.000000</td>\n",
       "      <td>1000.000000</td>\n",
       "      <td>1.000000</td>\n",
       "      <td>0.000000</td>\n",
       "      <td>1.000000</td>\n",
       "      <td>1.000000</td>\n",
       "      <td>803.000000</td>\n",
       "      <td>1000.000000</td>\n",
       "    </tr>\n",
       "    <tr>\n",
       "      <th>max</th>\n",
       "      <td>500.000000</td>\n",
       "      <td>1000.000000</td>\n",
       "      <td>1.000000</td>\n",
       "      <td>1.000000</td>\n",
       "      <td>1.000000</td>\n",
       "      <td>1.000000</td>\n",
       "      <td>1279.000000</td>\n",
       "      <td>1000.000000</td>\n",
       "    </tr>\n",
       "  </tbody>\n",
       "</table>\n",
       "</div>"
      ],
      "text/plain": [
       "       min_salary   max_salary      python         sql  Machine Learning  \\\n",
       "count  150.000000   150.000000  150.000000  150.000000        150.000000   \n",
       "mean   380.600000   716.600000    0.846667    0.246667          0.846667   \n",
       "std    147.357393   350.957807    0.361516    0.432515          0.361516   \n",
       "min    180.000000   223.000000    0.000000    0.000000          0.000000   \n",
       "25%    223.000000   360.000000    1.000000    0.000000          1.000000   \n",
       "50%    500.000000  1000.000000    1.000000    0.000000          1.000000   \n",
       "75%    500.000000  1000.000000    1.000000    0.000000          1.000000   \n",
       "max    500.000000  1000.000000    1.000000    1.000000          1.000000   \n",
       "\n",
       "       TensorFlow     desc_len   avg_salary  \n",
       "count  150.000000   150.000000   150.000000  \n",
       "mean     0.600000   653.386667   738.900000  \n",
       "std      0.491539   309.159019   320.954177  \n",
       "min      0.000000   432.000000   334.500000  \n",
       "25%      0.000000   432.000000   360.000000  \n",
       "50%      1.000000   432.000000  1000.000000  \n",
       "75%      1.000000   803.000000  1000.000000  \n",
       "max      1.000000  1279.000000  1000.000000  "
      ]
     },
     "execution_count": 13,
     "metadata": {},
     "output_type": "execute_result"
    }
   ],
   "source": [
    "df.describe()"
   ]
  },
  {
   "cell_type": "code",
   "execution_count": 14,
   "id": "abbd68e8",
   "metadata": {},
   "outputs": [
    {
     "data": {
      "text/plain": [
       "Index(['Company Name', 'Job Title', 'Job Description', 'Salary Estimate',\n",
       "       'Location', 'Revenue', 'min_salary', 'max_salary', 'python', 'sql',\n",
       "       'Machine Learning', 'TensorFlow', 'job_simpl', 'seniority', 'desc_len',\n",
       "       'avg_salary'],\n",
       "      dtype='object')"
      ]
     },
     "execution_count": 14,
     "metadata": {},
     "output_type": "execute_result"
    }
   ],
   "source": [
    "df.columns"
   ]
  },
  {
   "cell_type": "code",
   "execution_count": 15,
   "id": "93b20531",
   "metadata": {},
   "outputs": [
    {
     "data": {
      "text/plain": [
       "<AxesSubplot:>"
      ]
     },
     "execution_count": 15,
     "metadata": {},
     "output_type": "execute_result"
    },
    {
     "data": {
      "image/png": "[encoded data removed]",
      "text/plain": [
       "<Figure size 432x288 with 1 Axes>"
      ]
     },
     "metadata": {
      "needs_background": "light"
     },
     "output_type": "display_data"
    }
   ],
   "source": [
    "df.avg_salary.hist()"
   ]
  },
  {
   "cell_type": "code",
   "execution_count": 16,
   "id": "83d0a336",
   "metadata": {},
   "outputs": [
    {
     "data": {
      "text/plain": [
       "<AxesSubplot:>"
      ]
     },
     "execution_count": 16,
     "metadata": {},
     "output_type": "execute_result"
    },
    {
     "data": {
      "image/png": "[encoded data removed]",
      "text/plain": [
       "<Figure size 432x288 with 1 Axes>"
      ]
     },
     "metadata": {
      "needs_background": "light"
     },
     "output_type": "display_data"
    }
   ],
   "source": [
    "df.desc_len.hist()"
   ]
  },
  {
   "cell_type": "code",
   "execution_count": 17,
   "id": "cb27ec08",
   "metadata": {},
   "outputs": [
    {
     "data": {
      "text/plain": [
       "<AxesSubplot:>"
      ]
     },
     "execution_count": 17,
     "metadata": {},
     "output_type": "execute_result"
    },
    {
     "data": {
      "image/png": "[encoded data removed]",
      "text/plain": [
       "<Figure size 432x288 with 1 Axes>"
      ]
     },
     "metadata": {
      "needs_background": "light"
     },
     "output_type": "display_data"
    }
   ],
   "source": [
    "df.boxplot(column = ['avg_salary'])"
   ]
  },
  {
   "cell_type": "code",
   "execution_count": 18,
   "id": "8067f4b2",
   "metadata": {},
   "outputs": [
    {
     "data": {
      "text/html": [
       "<div>\n",
       "<style scoped>\n",
       "    .dataframe tbody tr th:only-of-type {\n",
       "        vertical-align: middle;\n",
       "    }\n",
       "\n",
       "    .dataframe tbody tr th {\n",
       "        vertical-align: top;\n",
       "    }\n",
       "\n",
       "    .dataframe thead th {\n",
       "        text-align: right;\n",
       "    }\n",
       "</style>\n",
       "<table border=\"1\" class=\"dataframe\">\n",
       "  <thead>\n",
       "    <tr style=\"text-align: right;\">\n",
       "      <th></th>\n",
       "      <th>avg_salary</th>\n",
       "      <th>desc_len</th>\n",
       "    </tr>\n",
       "  </thead>\n",
       "  <tbody>\n",
       "    <tr>\n",
       "      <th>avg_salary</th>\n",
       "      <td>1.000000</td>\n",
       "      <td>-0.870249</td>\n",
       "    </tr>\n",
       "    <tr>\n",
       "      <th>desc_len</th>\n",
       "      <td>-0.870249</td>\n",
       "      <td>1.000000</td>\n",
       "    </tr>\n",
       "  </tbody>\n",
       "</table>\n",
       "</div>"
      ],
      "text/plain": [
       "            avg_salary  desc_len\n",
       "avg_salary    1.000000 -0.870249\n",
       "desc_len     -0.870249  1.000000"
      ]
     },
     "execution_count": 18,
     "metadata": {},
     "output_type": "execute_result"
    }
   ],
   "source": [
    "df[['avg_salary','desc_len']].corr()"
   ]
  },
  {
   "cell_type": "code",
   "execution_count": null,
   "id": "b597bb5c",
   "metadata": {},
   "outputs": [],
   "source": [
    "cmap = sns.diverging_palette(220,10,as_cmap=True)\n",
    "sns.heatmap(df[['desc_len','avg_salary']].corr(),vmax=.3,center=0,cmap=cmap,square=True,linewidth=.5,cbar_kws={\"shrink\":.5})"
   ]
  },
  {
   "cell_type": "code",
   "execution_count": null,
   "id": "f911e660",
   "metadata": {},
   "outputs": [],
   "source": [
    "df.columns"
   ]
  },
  {
   "cell_type": "code",
   "execution_count": null,
   "id": "d5abcd49",
   "metadata": {},
   "outputs": [],
   "source": [
    "df_cat = df[['Company Name','Location', 'Revenue','python', 'sql',\n",
    "       'Machine Learning', 'TensorFlow', 'job_simpl', 'seniority']]"
   ]
  },
  {
   "cell_type": "code",
   "execution_count": null,
   "id": "bc50670f",
   "metadata": {},
   "outputs": [],
   "source": [
    "for i in df_cat.columns:\n",
    "    cat_index = df_cat[i].value_counts()\n",
    "    print('graph for {}: total = {}'.format(i,len(cat_index)))\n",
    "    chart = sns.barplot(x=cat_index.index,y=cat_index)\n",
    "    chart.set_xticklabels(chart.get_xticklabels(), rotation=90)\n",
    "    plt.show()"
   ]
  },
  {
   "cell_type": "code",
   "execution_count": null,
   "id": "211b3014",
   "metadata": {
    "scrolled": true
   },
   "outputs": [],
   "source": [
    "for i in df_cat[['Location','Company Name']]:\n",
    "    cat_index = df_cat[i].value_counts()[:20]\n",
    "    print('graph for {}: total = {}'.format(i,len(cat_index)))\n",
    "    chart = sns.barplot(x=cat_index.index,y=cat_index)\n",
    "    chart.set_xticklabels(chart.get_xticklabels(), rotation=90)\n",
    "    plt.show()"
   ]
  },
  {
   "cell_type": "code",
   "execution_count": null,
   "id": "f89c06f4",
   "metadata": {},
   "outputs": [],
   "source": [
    "df.columns"
   ]
  },
  {
   "cell_type": "code",
   "execution_count": null,
   "id": "0311eb7b",
   "metadata": {},
   "outputs": [],
   "source": [
    "pd.pivot_table(df, index = 'job_simpl',values = 'avg_salary')"
   ]
  },
  {
   "cell_type": "code",
   "execution_count": null,
   "id": "a6a88610",
   "metadata": {},
   "outputs": [],
   "source": [
    "pd.pivot_table(df, index = ['job_simpl','seniority'],values = 'avg_salary')"
   ]
  },
  {
   "cell_type": "code",
   "execution_count": null,
   "id": "5450cce9",
   "metadata": {},
   "outputs": [],
   "source": [
    "pd.pivot_table(df, index = ['Location','job_simpl'],values = 'avg_salary').sort_values('Location',ascending=False)"
   ]
  },
  {
   "cell_type": "code",
   "execution_count": null,
   "id": "b634a954",
   "metadata": {},
   "outputs": [],
   "source": [
    "df.columns"
   ]
  },
  {
   "cell_type": "code",
   "execution_count": null,
   "id": "24eedc17",
   "metadata": {},
   "outputs": [],
   "source": [
    "df_pivot = df[['Machine Learning','python','sql','TensorFlow','avg_salary']]"
   ]
  },
  {
   "cell_type": "code",
   "execution_count": null,
   "id": "95871e24",
   "metadata": {},
   "outputs": [],
   "source": [
    "for i in df_pivot.columns[:-1]:\n",
    "    print(i)\n",
    "    print(pd.pivot_table(df_pivot,index=i,values='avg_salary').sort_values('avg_salary',ascending=False))"
   ]
  },
  {
   "cell_type": "code",
   "execution_count": null,
   "id": "02365724",
   "metadata": {},
   "outputs": [],
   "source": [
    "from wordcloud import WordCloud, ImageColorGenerator, STOPWORDS\n",
    "from nltk.corpus import stopwords\n",
    "from nltk.tokenize import word_tokenize\n",
    "import nltk\n",
    "nltk.download('stopwords')\n",
    "nltk.download('punkt')"
   ]
  },
  {
   "cell_type": "code",
   "execution_count": null,
   "id": "a5947abf",
   "metadata": {},
   "outputs": [],
   "source": [
    "df.head()"
   ]
  },
  {
   "cell_type": "code",
   "execution_count": null,
   "id": "dd200615",
   "metadata": {},
   "outputs": [],
   "source": [
    "df.dtypes"
   ]
  },
  {
   "cell_type": "code",
   "execution_count": null,
   "id": "09732f7c",
   "metadata": {},
   "outputs": [],
   "source": []
  },
  {
   "cell_type": "code",
   "execution_count": null,
   "id": "7edf70cf",
   "metadata": {},
   "outputs": [],
   "source": [
    "words = \" \".join(df['Job Description'])\n",
    "\n",
    "def punctuation_stop(text):\n",
    "    filtered = []\n",
    "    stop_words = set(stopwords.words('english'))\n",
    "    word_tokens = word_tokenize(text)\n",
    "    for w in word_tokens:\n",
    "        if w not in stop_words and w.isalpha():\n",
    "            filtered.append(w.lower())\n",
    "    return filtered\n",
    "\n",
    "words_filtered = punctuation_stop(words)\n",
    "text = \" \".join([ele for ele in words_filtered])\n",
    "\n",
    "wc = WordCloud(background_color=\"white\",random_state=1,stopwords=STOPWORDS,max_words=2000,width=800,height=1500)\n",
    "wc.generate(text)\n",
    "\n",
    "plt.figure(figsize=[10,10])\n",
    "plt.imshow(wc,interpolation=\"bilinear\")\n",
    "plt.axis('off')\n",
    "plt.show()"
   ]
  },
  {
   "cell_type": "code",
   "execution_count": null,
   "id": "d01566a5",
   "metadata": {},
   "outputs": [],
   "source": [
    "df.to_csv(r'D:\\projects\\jupyter\\salary prediction\\eda_data.csv')"
   ]
  }
 ],
 "metadata": {
  "kernelspec": {
   "display_name": "Python 3",
   "language": "python",
   "name": "python3"
  },
  "language_info": {
   "codemirror_mode": {
    "name": "ipython",
    "version": 3
   },
   "file_extension": ".py",
   "mimetype": "text/x-python",
   "name": "python",
   "nbconvert_exporter": "python",
   "pygments_lexer": "ipython3",
   "version": "3.7.8"
  }
 },
 "nbformat": 4,
 "nbformat_minor": 5
}
